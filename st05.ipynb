{
 "cells": [
  {
   "cell_type": "code",
   "execution_count": null,
   "id": "7d1a7eda-85e1-47d5-86ba-87d7aa54518d",
   "metadata": {},
   "outputs": [],
   "source": [
    "Q1: What is Estimation Statistics? Explain point estimate and interval estimate.\n",
    "Q2. Write a Python function to estimate the population mean using a sample mean and standard\n",
    "deviation.\n",
    "Q3: What is Hypothesis testing? Why is it used? State the importance of Hypothesis testing.\n",
    "Q4. Create a hypothesis that states whether the average weight of male college students is greater than\n",
    "the average weight of female college students.\n",
    "Q5. Write a Python script to conduct a hypothesis test on the difference between two population means,\n",
    "given a sample from each population.\n",
    "Q6: What is a null and alternative hypothesis? Give some examples.\n",
    "Q7: Write down the steps involved in hypothesis testing.\n",
    "Q8. Define p-value and explain its significance in hypothesis testing.\n",
    "Q9. Generate a Student's t-distribution plot using Python's matplotlib library, with the degrees of freedom\n",
    "parameter set to 10.\n",
    "Q10. Write a Python program to calculate the two-sample t-test for independent samples, given two\n",
    "random samples of equal size and a null hypothesis that the population means are equal.\n",
    "Q11: What is Student’s t distribution? When to use the t-Distribution.\n",
    "Q12: What is t-statistic? State the formula for t-statistic.\n"
   ]
  },
  {
   "cell_type": "markdown",
   "id": "d4dd55ac-53b7-469e-b82d-1f7025dd2361",
   "metadata": {},
   "source": [
    "Q1: Estimation Statistics:\n",
    "Estimation statistics involves using sample data to make inferences about population parameters. There are two main types of estimates: point estimates and interval estimates.\n",
    "\n",
    "Point Estimate: A point estimate is a single value that is used to approximate a population parameter. The most common point estimate is the sample mean, which is used to estimate the population mean.\n",
    "\n",
    "Interval Estimate: An interval estimate provides a range of values within which the population parameter is likely to fall. It includes a point estimate and a margin of error. Confidence intervals are a common example of interval estimates."
   ]
  },
  {
   "cell_type": "markdown",
   "id": "9265d7f6-6c9b-4da5-ac32-42901e8d396b",
   "metadata": {},
   "source": [
    "Q2: Python Function to Estimate Population Mean:\n",
    "Here's a Python function that estimates the population mean using a sample mean and standard deviation:\n",
    "\n",
    "def estimate_population_mean(sample_mean, sample_stddev, sample_size):\n",
    "    # Calculate the standard error of the mean\n",
    "    standard_error = sample_stddev / (sample_size ** 0.5)\n",
    "    \n",
    "    # Calculate the margin of error (e.g., for a 95% confidence interval, use 1.96 for a z-score)\n",
    "    z_score = 1.96  # for a 95% confidence interval\n",
    "    margin_of_error = z_score * standard_error\n",
    "    \n",
    "    # Calculate the lower and upper bounds of the confidence interval\n",
    "    lower_bound = sample_mean - margin_of_error\n",
    "    upper_bound = sample_mean + margin_of_error\n",
    "    \n",
    "    return sample_mean, lower_bound, upper_bound\n"
   ]
  },
  {
   "cell_type": "markdown",
   "id": "309c0580-b2b0-44e3-85e4-3a5dcc15ea42",
   "metadata": {},
   "source": [
    "Q3: Hypothesis Testing:\n",
    "Hypothesis testing is a statistical method used to make inferences about a population based on a sample of data. It involves formulating a null hypothesis (typically a statement of no effect or no difference) and an alternative hypothesis (a statement that contradicts the null hypothesis) and then conducting statistical tests to determine whether there is enough evidence to accept or reject the null hypothesis.\n",
    "\n",
    "Importance of Hypothesis Testing:\n",
    "\n",
    "It helps in making data-driven decisions and drawing conclusions based on evidence.\n",
    "It allows researchers to assess the validity of their assumptions and hypotheses.\n",
    "It provides a systematic and objective way to evaluate the significance of observed effects or differences."
   ]
  },
  {
   "cell_type": "markdown",
   "id": "a93f8328-b56e-40a8-a598-3181723df18e",
   "metadata": {},
   "source": [
    "Q4: Hypothesis for Average Weight of Male vs. Female College Students:\n",
    "Null Hypothesis (H0): The average weight of male college students is equal to or less than the average weight of female college students.\n",
    "Alternative Hypothesis (H1): The average weight of male college students is greater than the average weight of female college students."
   ]
  },
  {
   "cell_type": "markdown",
   "id": "70f01f70-49f8-4750-9246-cfe005a8e54b",
   "metadata": {},
   "source": [
    "Q5: Python Script for Hypothesis Test on Population Means:\n",
    "Here's a Python script to conduct a hypothesis test on the difference between two population means:\n",
    "\n",
    "import scipy.stats as stats\n",
    "\n",
    "def two_sample_t_test(sample1, sample2, alpha):\n",
    "    t_stat, p_value = stats.ttest_ind(sample1, sample2, equal_var=False)  # Assuming unequal variances\n",
    "    if p_value < alpha:\n",
    "        return \"Reject the null hypothesis\"\n",
    "    else:\n",
    "        return \"Fail to reject the null hypothesis\"\n",
    "\n",
    "# Usage:\n",
    "sample1 = [list of data for male college students]\n",
    "sample2 = [list of data for female college students]\n",
    "alpha = 0.05  # Significance level\n",
    "result = two_sample_t_test(sample1, sample2, alpha)\n",
    "print(result)\n"
   ]
  },
  {
   "cell_type": "markdown",
   "id": "cd5c0b9c-2095-4fd9-8039-6621b8729b2d",
   "metadata": {},
   "source": [
    "Q6: Null and Alternative Hypotheses:\n",
    "\n",
    "Null Hypothesis (H0): It is a statement of no effect, no difference, or no relationship in the population. It represents the status quo or the default assumption to be tested. For example, \"The population means are equal.\"\n",
    "\n",
    "Alternative Hypothesis (H1 or Ha): It is a statement that contradicts the null hypothesis and represents the effect, difference, or relationship we want to find evidence for. For example, \"The population means are not equal\" or \"The population mean is greater than.\""
   ]
  },
  {
   "cell_type": "markdown",
   "id": "c012a284-6b5a-4224-a8dd-5467c095a3a6",
   "metadata": {},
   "source": [
    "Q7: Steps in Hypothesis Testing:\n",
    "\n",
    "Formulate Hypotheses: Define the null and alternative hypotheses.\n",
    "Collect Data: Gather a sample from the population of interest.\n",
    "Choose Significance Level: Select the level of significance (alpha) to determine the threshold for statistical significance.\n",
    "Perform Test: Conduct a statistical test (e.g., t-test, z-test) based on the chosen test statistic.\n",
    "Calculate Test Statistic: Calculate the test statistic based on the data and the chosen test.\n",
    "Determine P-Value: Find the p-value associated with the test statistic.\n",
    "Make a Decision: Compare the p-value to the significance level. If p-value < alpha, reject the null hypothesis; otherwise, fail to reject it.\n",
    "Draw a Conclusion: Interpret the results and make inferences about the population."
   ]
  },
  {
   "cell_type": "markdown",
   "id": "bf1d8bd4-3902-45e4-92eb-e59cb6202fe9",
   "metadata": {},
   "source": [
    "Q8: P-Value in Hypothesis Testing:\n",
    "The p-value is a probability that measures the strength of evidence against the null hypothesis. It quantifies the likelihood of obtaining the observed data or more extreme results when the null hypothesis is true. In hypothesis testing:\n",
    "\n",
    "A small p-value (typically < alpha, the chosen significance level) suggests strong evidence against the null hypothesis, leading to its rejection.\n",
    "A large p-value suggests weak evidence against the null hypothesis, and the null hypothesis is not rejected."
   ]
  },
  {
   "cell_type": "markdown",
   "id": "3e3e4b47-e957-4d04-a77c-77fcf96d23de",
   "metadata": {},
   "source": [
    "Q9: Generating a Student's t-Distribution Plot in Python:\n",
    "Here's how to generate a t-distribution plot using Python's matplotlib library with 10 degrees of freedom:\n",
    "    import numpy as np\n",
    "import matplotlib.pyplot as plt\n",
    "from scipy.stats import t\n",
    "\n",
    "degrees_of_freedom = 10\n",
    "x = np.linspace(-4, 4, 1000)\n",
    "y = t.pdf(x, df=degrees_of_freedom)\n",
    "\n",
    "plt.plot(x, y)\n",
    "plt.title(f\"Student's t-Distribution (df = {degrees_of_freedom})\")\n",
    "plt.xlabel(\"x\")\n",
    "plt.ylabel(\"Probability Density\")\n",
    "plt.grid(True)\n",
    "plt.show()\n"
   ]
  },
  {
   "cell_type": "markdown",
   "id": "09cf7fe9-33f5-4639-ab3a-0d7284200b1a",
   "metadata": {},
   "source": [
    "Q10: Python Program for Two-Sample T-Test:\n",
    "Here's a Python program to calculate a two-sample t-test for independent samples and test the null hypothesis that the population means are equal:\n",
    "import scipy.stats as stats\n",
    "\n",
    "def two_sample_t_test(sample1, sample2, alpha):\n",
    "    t_stat, p_value = stats.ttest_ind(sample1, sample2)\n",
    "    if p_value < alpha:\n",
    "        return \"Reject the null hypothesis\"\n",
    "    else:\n",
    "        return \"Fail to reject the null hypothesis\"\n",
    "\n",
    "# Usage:\n",
    "sample1 = [list of data for the first sample]\n",
    "sample2 = [list of data for the second sample]\n",
    "alpha = 0.05  # Significance level\n",
    "result = two_sample_t_test(sample1, sample2, alpha)\n",
    "print(result)\n"
   ]
  },
  {
   "cell_type": "markdown",
   "id": "21bfd702-bd95-4e34-b7cb-97da26487664",
   "metadata": {},
   "source": [
    "Q11: Student’s t-Distribution and Its Use:\n",
    "The Student's t-distribution, or t-distribution, is a probability distribution that is similar to the normal distribution but with heavier tails. It is used when the sample size is small, and the population standard deviation is unknown. The t-distribution is employed for making inferences about the population mean and performing hypothesis tests.\n",
    "\n",
    "Use cases for the t-distribution:\n",
    "\n",
    "When the sample size is small (typically n < 30).\n",
    "When the population standard deviation is unknown.\n",
    "In situations where the data may not follow a perfect normal distribution."
   ]
  },
  {
   "cell_type": "markdown",
   "id": "1c0344e7-bb23-4585-aec9-eb2c609a8967",
   "metadata": {},
   "source": [
    "Q12: T-Statistic Formula:\n",
    "The t-statistic is a measure of how many standard errors the sample mean is away from the hypothesized population mean, given the sample data. The formula for the t-statistic when comparing a sample mean to a population mean is as follows:\n",
    "\n",
    "t-statistic = (sample mean - population mean) / (standard error of the sample mean)\n",
    "\n",
    "Where:\n",
    "\n",
    "Sample mean: The mean of the sample data.\n",
    "Population mean: The hypothesized mean of the population under the null hypothesis.\n",
    "Standard error of the sample mean: This is calculated as the sample standard deviation divided by the square root of the sample size. It measures the variability of sample means."
   ]
  },
  {
   "cell_type": "markdown",
   "id": "18fff369-ed04-4d3d-8948-6433b16d1d44",
   "metadata": {},
   "source": [
    "Q13: Estimating Population Mean Revenue with a 95% Confidence Interval:\n",
    "Given data:\n",
    "\n",
    "Sample mean revenue (x̄) = $500\n",
    "Sample standard deviation (s) = $50\n",
    "Sample size (n) = 50\n",
    "Confidence level = 95%\n",
    "To estimate the population mean revenue with a 95% confidence interval, you can use the formula for the confidence interval:\n",
    "\n",
    "Confidence Interval = x̄ ± Z * (s / √n)\n",
    "\n",
    "Where Z is the critical value for a 95% confidence interval, which is approximately 1.96 for a two-tailed test (you can find this value from a standard normal distribution table).\n",
    "\n",
    "Calculating the confidence interval:\n",
    "\n",
    "Confidence Interval = $500 ± 1.96 * ($50 / √50)\n",
    "\n",
    "Confidence Interval ≈ $500 ± $13.42\n",
    "\n",
    "So, the 95% confidence interval for the population mean revenue is approximately $486.58 to $513.42."
   ]
  },
  {
   "cell_type": "markdown",
   "id": "48d2b223-1ae6-4117-abe0-af38b3ee4f15",
   "metadata": {},
   "source": [
    "Q14: Testing a Hypothesis on Blood Pressure Decrease:\n",
    "Given data:\n",
    "\n",
    "Sample mean decrease in blood pressure (x̄) = 8 mmHg\n",
    "Sample standard deviation (s) = 3 mmHg\n",
    "Sample size (n) = 100\n",
    "Null hypothesis (H0): The new drug has no effect (μ = 10 mmHg)\n",
    "Significance level (α) = 0.05\n",
    "To test the hypothesis, you can use a one-sample t-test. Calculate the t-statistic as follows:\n",
    "\n",
    "t-statistic = (x̄ - μ) / (s / √n)\n",
    "\n",
    "t-statistic = (8 - 10) / (3 / √100) = -2 / 0.3 = -6.67\n",
    "\n",
    "Next, find the degrees of freedom (df) which is n - 1 = 99. You can then find the critical t-value for a two-tailed test at α = 0.05 for 99 degrees of freedom from a t-distribution table or calculator.\n",
    "\n",
    "Since -6.67 < -t_critical (the negative critical t-value), you would reject the null hypothesis. There is enough evidence to conclude that the new drug has a statistically significant effect on decreasing blood pressure.\n",
    "\n",
    "\n",
    "\n",
    "\n",
    "\n",
    "\n",
    "\n",
    "Is this conversation helpful so far?\n",
    "\n",
    "\n",
    "\n"
   ]
  },
  {
   "cell_type": "markdown",
   "id": "53e0b2a7-b03b-43f3-8919-9eb57ee92cb2",
   "metadata": {},
   "source": [
    "Q15: Testing a Hypothesis on Product Weight:\n",
    "Given data:\n",
    "\n",
    "Sample mean weight (x̄) = 4.8 pounds\n",
    "Population mean under the null hypothesis (μ) = 5 pounds\n",
    "Sample standard deviation (s) = 0.5 pounds\n",
    "Sample size (n) = 25\n",
    "Significance level (α) = 0.01\n",
    "To test the hypothesis, use a one-sample t-test. Calculate the t-statistic:\n",
    "\n",
    "t-statistic = (x̄ - μ) / (s / √n)\n",
    "\n",
    "t-statistic = (4.8 - 5) / (0.5 / √25) = -0.2 / 0.1 = -2\n",
    "\n",
    "The degrees of freedom (df) are n - 1 = 24. Find the critical t-value for a one-tailed test at α = 0.01 for 24 degrees of freedom.\n",
    "\n",
    "Since -2 < -t_critical, you would reject the null hypothesis. There is enough evidence to conclude that the true mean weight of the products is less than 5 pounds at the 0.01 significance level."
   ]
  },
  {
   "cell_type": "markdown",
   "id": "5023ebd7-3a27-4e83-b1b4-fe94279d7561",
   "metadata": {},
   "source": [
    "Q16: Testing Equality of Two Population Means:\n",
    "Given data for Group 1:\n",
    "\n",
    "Sample mean (x̄1) = 80\n",
    "Sample standard deviation (s1) = 10\n",
    "Sample size (n1) = 30\n",
    "Given data for Group 2:\n",
    "\n",
    "Sample mean (x̄2) = 75\n",
    "Sample standard deviation (s2) = 8\n",
    "Sample size (n2) = 40\n",
    "Null hypothesis (H0): μ1 = μ2 (Population means of the two groups are equal)\n",
    "Significance level (α) = 0.01\n",
    "\n",
    "To test the hypothesis, you can use a two-sample t-test. Calculate the test statistic:\n",
    "\n",
    "t-statistic = (x̄1 - x̄2) / √((s1^2/n1) + (s2^2/n2))\n",
    "\n",
    "t-statistic = (80 - 75) / √((10^2/30) + (8^2/40))\n",
    "\n",
    "Calculate the degrees of freedom (df) using a formula for unequal variances.\n",
    "\n",
    "Next, find the critical t-value for a two-tailed test at α = 0.01 for the calculated degrees of freedom.\n",
    "\n",
    "If the absolute value of the t-statistic is greater than the critical t-value, you would reject the null hypothesis.\n"
   ]
  },
  {
   "cell_type": "code",
   "execution_count": null,
   "id": "1bbd8b94-a41b-4005-a844-9c1483a4dc38",
   "metadata": {},
   "outputs": [],
   "source": []
  },
  {
   "cell_type": "code",
   "execution_count": null,
   "id": "0a04c52c-486b-4d70-9085-a713c7d1a3d2",
   "metadata": {},
   "outputs": [],
   "source": []
  },
  {
   "cell_type": "code",
   "execution_count": null,
   "id": "1e24f52f-ee36-4d3a-9fb6-f21d954f791d",
   "metadata": {},
   "outputs": [],
   "source": []
  }
 ],
 "metadata": {
  "kernelspec": {
   "display_name": "Python 3 (ipykernel)",
   "language": "python",
   "name": "python3"
  },
  "language_info": {
   "codemirror_mode": {
    "name": "ipython",
    "version": 3
   },
   "file_extension": ".py",
   "mimetype": "text/x-python",
   "name": "python",
   "nbconvert_exporter": "python",
   "pygments_lexer": "ipython3",
   "version": "3.10.8"
  }
 },
 "nbformat": 4,
 "nbformat_minor": 5
}
